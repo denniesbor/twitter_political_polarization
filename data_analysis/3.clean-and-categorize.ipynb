{
 "cells": [
  {
   "cell_type": "code",
   "execution_count": 21,
   "id": "2c7ca494-4a08-46d8-9bcd-7b9c9685f5c2",
   "metadata": {
    "tags": []
   },
   "outputs": [],
   "source": [
    "import json\n",
    "import re\n",
    "import warnings\n",
    "\n",
    "import contractions\n",
    "import pandas as pd\n",
    "\n",
    "warnings.filterwarnings(\"ignore\")"
   ]
  },
  {
   "cell_type": "code",
   "execution_count": 22,
   "id": "47e901ee-f9a9-4ac2-8c5c-92e472688655",
   "metadata": {
    "tags": []
   },
   "outputs": [],
   "source": [
    "# load raw tweets\n",
    "\n",
    "df = pd.read_csv(\"raw_tweets.csv\")"
   ]
  },
  {
   "cell_type": "code",
   "execution_count": 23,
   "id": "225151d7-c2a5-4e62-a89d-f57f4d62df79",
   "metadata": {
    "tags": []
   },
   "outputs": [
    {
     "data": {
      "text/plain": [
       "{'Social Policies': {'All': 'all',\n",
       "  'LGBTQ Community': ['transphobia',\n",
       "   'sexual identity',\n",
       "   'homophobia',\n",
       "   'trans',\n",
       "   'LGBTQ',\n",
       "   'biphobia',\n",
       "   'lgbtq'],\n",
       "  'Broadband Internet': ['broadband', 'internet'],\n",
       "  'Abortion': ['abortion'],\n",
       "  'Substance Abuse and Mental Health': ['mental',\n",
       "   'suicide',\n",
       "   'marijuana',\n",
       "   'substance'],\n",
       "  'Gun Control': ['guns', 'arms', 'shooter', 'assault', 'weapons', 'gun'],\n",
       "  'Immigration and Border Control': ['southern',\n",
       "   'immigration',\n",
       "   'migrant',\n",
       "   'border',\n",
       "   'immigrants'],\n",
       "  'Fossil Fuels': ['fossil', 'oil', 'petroleum'],\n",
       "  'Climate Change': ['greenhouse', 'climate', 'emissions', 'carbon']},\n",
       " 'Geo Political Policies': {'All': 'all',\n",
       "  'Chinese Communist Party': ['china', 'ccp', 'communist', 'chinese'],\n",
       "  'CHIPS and Science Act': ['science act', 'chips act', 'chips'],\n",
       "  'Taiwan': ['taiwan'],\n",
       "  'Ukraine-Russia': ['vladimir',\n",
       "   'invasion',\n",
       "   'putin',\n",
       "   'zelensky',\n",
       "   'russia',\n",
       "   'ukraine',\n",
       "   'ukrainian',\n",
       "   'russian',\n",
       "   'nord stream',\n",
       "   'nordstream']}}"
      ]
     },
     "execution_count": 23,
     "metadata": {},
     "output_type": "execute_result"
    }
   ],
   "source": [
    "# open json file consisting of policies and its sub-groups\n",
    "\n",
    "with open(\"data.json\") as json_file:\n",
    "    categories = json.load(json_file)\n",
    "categories"
   ]
  },
  {
   "cell_type": "markdown",
   "id": "cc6c7754-5809-4bbe-829d-4294cebd9bba",
   "metadata": {},
   "source": [
    "### Clean the Tweets"
   ]
  },
  {
   "cell_type": "code",
   "execution_count": 24,
   "id": "e216d816-1749-4200-ad35-9d52e4bfe588",
   "metadata": {
    "tags": []
   },
   "outputs": [],
   "source": [
    "def contractors(text):\n",
    "    \"\"\"Cleaning the texts, non-alphanumeric letters are removed\n",
    "    including those in shortened words such as can't, won't, etc.\n",
    "    This function expands these words.\n",
    "    \"\"\"\n",
    "\n",
    "    # creating an empty list\n",
    "    expanded_words = []\n",
    "\n",
    "    for word in text.split():\n",
    "        # using contractions.fix to expand the shortened words\n",
    "        expanded_words.append(contractions.fix(word))\n",
    "\n",
    "    expanded_text = \" \".join(expanded_words)\n",
    "    return expanded_text\n",
    "\n",
    "\n",
    "def clean_tweets(tweet: str):\n",
    "    \"\"\"This function cleans the tweets\n",
    "    Attrs\n",
    "    ---------\n",
    "    input: str\n",
    "    tweet\n",
    "    Returns\n",
    "    ---------\n",
    "    output: str\n",
    "    clean tweet\n",
    "    \"\"\"\n",
    "\n",
    "    tweet = contractors(tweet)\n",
    "    tweet = tweet.lower()\n",
    "    tweet = re.sub(\"@[^\\s]+\", \"\", tweet)  # remove twitter handlers\n",
    "    # tweet = re.sub(r'\\B#\\S+','',tweet)  # remove hashtags\n",
    "    tweet = re.sub(r\"http\\S+\", \"\", tweet)  # Remove URLS\n",
    "    tweet = re.sub(\n",
    "        r\"\\s+\", \" \", tweet, flags=re.I\n",
    "    )  # substitute multiple spaces with single space\n",
    "    tweet = \" \".join(re.findall(r\"\\w+\", tweet))  # remove all the special characters\n",
    "    tweet = re.sub(r\"(^| ).(( ).)*( |$)\", \" \", tweet)  # remove all single characters\n",
    "\n",
    "    return tweet"
   ]
  },
  {
   "cell_type": "code",
   "execution_count": 25,
   "id": "d2865045-0fae-44f7-85f6-1d06bc2ec8bf",
   "metadata": {
    "tags": []
   },
   "outputs": [],
   "source": [
    "# clean the tweets\n",
    "\n",
    "df[\"clean_text\"] = df[\"tweet\"].apply(clean_tweets)"
   ]
  },
  {
   "cell_type": "markdown",
   "id": "9246db21-a16d-4ea2-8723-cd71b19c044d",
   "metadata": {},
   "source": [
    "### Identify Tweet Categories"
   ]
  },
  {
   "cell_type": "code",
   "execution_count": 26,
   "id": "8fa4c759-9714-4705-9fdb-d467d835c2e9",
   "metadata": {
    "tags": []
   },
   "outputs": [],
   "source": [
    "def get_policy_cat(text):\n",
    "    \"\"\"This function searches through a tweet text and categorizes it into\n",
    "    their respective categories, e.g., geo-political or social, and further\n",
    "    break down into sub-categories, e.g., climate change, etc.\n",
    "    \"\"\"\n",
    "\n",
    "    social_policy = \"\"\n",
    "    geopolitical_policy = \"\"\n",
    "    policies = \"\"\n",
    "    policy_cat = \"\"\n",
    "\n",
    "    for policy_type in categories:\n",
    "\n",
    "        for policy in categories[policy_type]:\n",
    "            if policy != \"All\":\n",
    "                search = \"|\".join([f\"{p} \" for p in categories[policy_type][policy]])\n",
    "                regexp = re.search(r\"\\b%s\\b\" % search, text, re.I)\n",
    "\n",
    "                if regexp:\n",
    "                    policies += policy + \"|\"\n",
    "\n",
    "                    if policy_type in policy_cat:\n",
    "                        pass\n",
    "                    else:\n",
    "                        policy_cat += policy_type + \" \"\n",
    "                        if policy_type == \"Social Policies\":\n",
    "                            social_policy += policy_type\n",
    "                        if policy_type == \"Geo Political Policies\":\n",
    "                            geopolitical_policy += policy_type\n",
    "            else:\n",
    "                pass\n",
    "\n",
    "    return pd.Series([social_policy, geopolitical_policy, policies.split(\"|\")])"
   ]
  },
  {
   "cell_type": "code",
   "execution_count": 27,
   "id": "f3125ea0-fabe-4a1c-b5e9-7f66d1a80937",
   "metadata": {
    "tags": []
   },
   "outputs": [],
   "source": [
    "# get_policy_cat will create three columns in the dataframe\n",
    "df[[\"social_policy\", \"geopolitical_policy\", \"policies\"]] = df.clean_text.apply(\n",
    "    get_policy_cat\n",
    ")\n",
    "\n",
    "# drop empty policies\n",
    "df = df[df[\"policies\"].map(lambda text: len(text)) > 1]"
   ]
  },
  {
   "cell_type": "markdown",
   "id": "a5f4c6a8-f565-489a-9ad0-e4c6aa38eb48",
   "metadata": {},
   "source": [
    "### Flattening the DataFrame\n",
    "\n",
    "Some tweets belong to different categories, i.e., they discuss Ukraine-Russia and fossil fuels.\n",
    "The code below assigns a policy and a tweet to each row, increasing the length of the dataframe."
   ]
  },
  {
   "cell_type": "code",
   "execution_count": 28,
   "id": "128c8065-48b4-4a63-ae43-837f111ae4f2",
   "metadata": {
    "tags": []
   },
   "outputs": [],
   "source": [
    "articles = [\"and\", \"LGBTQ\", \"the\", \"of\"]"
   ]
  },
  {
   "cell_type": "code",
   "execution_count": 29,
   "id": "5089bb4a-4102-47a4-9e95-bee5a8eb9401",
   "metadata": {
    "tags": []
   },
   "outputs": [
    {
     "data": {
      "text/html": [
       "<div>\n",
       "<style scoped>\n",
       "    .dataframe tbody tr th:only-of-type {\n",
       "        vertical-align: middle;\n",
       "    }\n",
       "\n",
       "    .dataframe tbody tr th {\n",
       "        vertical-align: top;\n",
       "    }\n",
       "\n",
       "    .dataframe thead th {\n",
       "        text-align: right;\n",
       "    }\n",
       "</style>\n",
       "<table border=\"1\" class=\"dataframe\">\n",
       "  <thead>\n",
       "    <tr style=\"text-align: right;\">\n",
       "      <th></th>\n",
       "      <th>tweet_id</th>\n",
       "      <th>username</th>\n",
       "      <th>party</th>\n",
       "      <th>tweet</th>\n",
       "      <th>clean_text</th>\n",
       "      <th>favorite_count</th>\n",
       "      <th>retweet_count</th>\n",
       "      <th>created_at</th>\n",
       "      <th>source</th>\n",
       "      <th>social_policy</th>\n",
       "      <th>geopolitical_policy</th>\n",
       "      <th>policies</th>\n",
       "    </tr>\n",
       "  </thead>\n",
       "  <tbody>\n",
       "    <tr>\n",
       "      <th>16</th>\n",
       "      <td>1577015599234183168</td>\n",
       "      <td>RepAdams</td>\n",
       "      <td>D</td>\n",
       "      <td>Some companies introduced \"shoot now, pay late...</td>\n",
       "      <td>some companies introduced shoot now pay later ...</td>\n",
       "      <td>14</td>\n",
       "      <td>6</td>\n",
       "      <td>2022-10-03 19:19:53+00:00</td>\n",
       "      <td>Twitter Web App</td>\n",
       "      <td>Social Policies</td>\n",
       "      <td></td>\n",
       "      <td>[Gun Control, ]</td>\n",
       "    </tr>\n",
       "    <tr>\n",
       "      <th>40</th>\n",
       "      <td>1570042526119219201</td>\n",
       "      <td>RepAdams</td>\n",
       "      <td>D</td>\n",
       "      <td>MAGA Republicans want a nationwide abortion ba...</td>\n",
       "      <td>maga republicans want nationwide abortion ban ...</td>\n",
       "      <td>12</td>\n",
       "      <td>4</td>\n",
       "      <td>2022-09-14 13:31:22+00:00</td>\n",
       "      <td>Twitter for iPhone</td>\n",
       "      <td>Social Policies</td>\n",
       "      <td></td>\n",
       "      <td>[Abortion, ]</td>\n",
       "    </tr>\n",
       "    <tr>\n",
       "      <th>42</th>\n",
       "      <td>1569760198784421889</td>\n",
       "      <td>RepAdams</td>\n",
       "      <td>D</td>\n",
       "      <td>The #InflationReductionAct is historic legisla...</td>\n",
       "      <td>the inflationreductionact is historic legislat...</td>\n",
       "      <td>11</td>\n",
       "      <td>2</td>\n",
       "      <td>2022-09-13 18:49:30+00:00</td>\n",
       "      <td>Twitter Web App</td>\n",
       "      <td>Social Policies</td>\n",
       "      <td></td>\n",
       "      <td>[Climate Change, ]</td>\n",
       "    </tr>\n",
       "    <tr>\n",
       "      <th>51</th>\n",
       "      <td>1565390497111281667</td>\n",
       "      <td>RepAdams</td>\n",
       "      <td>D</td>\n",
       "      <td>Two simple things Congress should do:\\n\\nRaise...</td>\n",
       "      <td>two simple things congress should do raise the...</td>\n",
       "      <td>27</td>\n",
       "      <td>5</td>\n",
       "      <td>2022-09-01 17:25:52+00:00</td>\n",
       "      <td>Twitter for iPhone</td>\n",
       "      <td>Social Policies</td>\n",
       "      <td></td>\n",
       "      <td>[Gun Control, ]</td>\n",
       "    </tr>\n",
       "    <tr>\n",
       "      <th>61</th>\n",
       "      <td>1562467900803653632</td>\n",
       "      <td>RepAdams</td>\n",
       "      <td>D</td>\n",
       "      <td>Beginning Soon: our town hall will explain rec...</td>\n",
       "      <td>beginning soon our town hall will explain rece...</td>\n",
       "      <td>4</td>\n",
       "      <td>5</td>\n",
       "      <td>2022-08-24 15:52:31+00:00</td>\n",
       "      <td>Twitter Web App</td>\n",
       "      <td>Social Policies</td>\n",
       "      <td></td>\n",
       "      <td>[Abortion, ]</td>\n",
       "    </tr>\n",
       "  </tbody>\n",
       "</table>\n",
       "</div>"
      ],
      "text/plain": [
       "               tweet_id  username party  \\\n",
       "16  1577015599234183168  RepAdams     D   \n",
       "40  1570042526119219201  RepAdams     D   \n",
       "42  1569760198784421889  RepAdams     D   \n",
       "51  1565390497111281667  RepAdams     D   \n",
       "61  1562467900803653632  RepAdams     D   \n",
       "\n",
       "                                                tweet  \\\n",
       "16  Some companies introduced \"shoot now, pay late...   \n",
       "40  MAGA Republicans want a nationwide abortion ba...   \n",
       "42  The #InflationReductionAct is historic legisla...   \n",
       "51  Two simple things Congress should do:\\n\\nRaise...   \n",
       "61  Beginning Soon: our town hall will explain rec...   \n",
       "\n",
       "                                           clean_text  favorite_count  \\\n",
       "16  some companies introduced shoot now pay later ...              14   \n",
       "40  maga republicans want nationwide abortion ban ...              12   \n",
       "42  the inflationreductionact is historic legislat...              11   \n",
       "51  two simple things congress should do raise the...              27   \n",
       "61  beginning soon our town hall will explain rece...               4   \n",
       "\n",
       "    retweet_count                 created_at              source  \\\n",
       "16              6  2022-10-03 19:19:53+00:00     Twitter Web App   \n",
       "40              4  2022-09-14 13:31:22+00:00  Twitter for iPhone   \n",
       "42              2  2022-09-13 18:49:30+00:00     Twitter Web App   \n",
       "51              5  2022-09-01 17:25:52+00:00  Twitter for iPhone   \n",
       "61              5  2022-08-24 15:52:31+00:00     Twitter Web App   \n",
       "\n",
       "      social_policy geopolitical_policy            policies  \n",
       "16  Social Policies                         [Gun Control, ]  \n",
       "40  Social Policies                            [Abortion, ]  \n",
       "42  Social Policies                      [Climate Change, ]  \n",
       "51  Social Policies                         [Gun Control, ]  \n",
       "61  Social Policies                            [Abortion, ]  "
      ]
     },
     "execution_count": 29,
     "metadata": {},
     "output_type": "execute_result"
    }
   ],
   "source": [
    "df.head(5)"
   ]
  },
  {
   "cell_type": "code",
   "execution_count": 30,
   "id": "0387a905-de1a-443b-bc7a-cf67cf245fbb",
   "metadata": {
    "tags": []
   },
   "outputs": [],
   "source": [
    "social_policies = categories[\"Social Policies\"]\n",
    "social_policies = list(social_policies.keys())\n",
    "social_policies.remove(\"All\")\n",
    "\n",
    "geo_political_policies = categories[\"Geo Political Policies\"]\n",
    "geo_political_policies = list(geo_political_policies.keys())\n",
    "geo_political_policies.remove(\"All\")\n",
    "\n",
    "policies_list = []\n",
    "cats = [social_policies, geo_political_policies]\n",
    "for cat in cats:\n",
    "    for policy in sorted(cat, key=lambda x: x.lower()):\n",
    "\n",
    "        title = \" \".join(\n",
    "            [\n",
    "                word.capitalize() if word not in articles else word\n",
    "                for word in policy.split(\" \")\n",
    "            ]\n",
    "        )\n",
    "        # category df\n",
    "        df[\"policies\"] = df[\"policies\"].apply(str)\n",
    "        cat_df = df[df.policies.str.contains(r\"%s\" % policy, re.I, regex=True)]\n",
    "        cat_df[\"policy\"] = policy\n",
    "        policies_list.append(cat_df)\n",
    "\n",
    "dfs = pd.concat(policies_list)\n",
    "dfs = dfs.sample(frac=1)\n",
    "\n",
    "# twitter_data = dfs[\n",
    "#     [\n",
    "#         \"username\",\n",
    "#         \"party\",\n",
    "#         \"clean_text\",\n",
    "#         \"compound_sentiment\",\n",
    "#         \"govtrack_class\",\n",
    "#         \"policy\",\n",
    "#     ]\n",
    "# ]\n",
    "# twitter_data.to_csv('/home/denniesbor/Dropbox/twitter_nlp_project2/data/twitter_data.csv', index=False)"
   ]
  },
  {
   "cell_type": "code",
   "execution_count": 31,
   "id": "f0dc429c-3eb9-48b5-89e2-b0cd8f4b3778",
   "metadata": {
    "tags": []
   },
   "outputs": [],
   "source": [
    "dfs.to_csv(\"clean_tweets.csv\", index=False)"
   ]
  },
  {
   "cell_type": "code",
   "execution_count": null,
   "id": "0f60069a-e7e9-4c4f-9262-3162961083fb",
   "metadata": {},
   "outputs": [],
   "source": []
  }
 ],
 "metadata": {
  "kernelspec": {
   "display_name": "Python 3 (ipykernel)",
   "language": "python",
   "name": "python3"
  },
  "language_info": {
   "codemirror_mode": {
    "name": "ipython",
    "version": 3
   },
   "file_extension": ".py",
   "mimetype": "text/x-python",
   "name": "python",
   "nbconvert_exporter": "python",
   "pygments_lexer": "ipython3",
   "version": "3.11.0"
  }
 },
 "nbformat": 4,
 "nbformat_minor": 5
}
