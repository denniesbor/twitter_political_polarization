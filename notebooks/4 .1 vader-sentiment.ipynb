{
 "cells": [
  {
   "cell_type": "markdown",
   "id": "de6109a4-bc0f-4f1a-b2e1-bc946a0bdaa4",
   "metadata": {},
   "source": [
    "### Compute Sentiments\n",
    "**Vader**\n",
    "\n",
    "Vader Sentiment Analysis returns probabilities of given sentences as positive, negative, or neutral and according to developers it's attuned to sentiments expressed in social media\n"
   ]
  },
  {
   "cell_type": "code",
   "execution_count": 2,
   "id": "a6f6fcb3-e4fd-4442-b7af-5699f9ae32e1",
   "metadata": {},
   "outputs": [
    {
     "name": "stderr",
     "output_type": "stream",
     "text": [
      "[nltk_data] Downloading package vader_lexicon to\n",
      "[nltk_data]     C:\\Users\\borki\\AppData\\Roaming\\nltk_data...\n"
     ]
    }
   ],
   "source": [
    "import re\n",
    "import nltk\n",
    "nltk.download('vader_lexicon')\n",
    "import pandas as pd\n",
    "from nltk.sentiment.vader import SentimentIntensityAnalyzer as SIA\n",
    "\n",
    "sid = SIA()"
   ]
  },
  {
   "cell_type": "code",
   "execution_count": 3,
   "id": "65f95edb-b7c4-4be6-8d92-e80e1c3d9c4b",
   "metadata": {},
   "outputs": [],
   "source": [
    "df = pd.read_csv(\"tweets_scores.csv\")"
   ]
  },
  {
   "cell_type": "code",
   "execution_count": 4,
   "id": "9615d149-36a6-4bb3-b2aa-d5c6bec27ee4",
   "metadata": {},
   "outputs": [],
   "source": [
    "def compute_sentiments(df):\n",
    "    \"\"\"Function which computes the sentiments of a dataframe texts.\"\"\"\n",
    "\n",
    "    df[\"sentiments\"] = df[\"clean_text\"].apply(\n",
    "        lambda x: sid.polarity_scores(\" \".join(re.findall(r\"\\w+\", x.lower())))\n",
    "    )\n",
    "\n",
    "    # extract scores of sentiments. 0.00001 added incase of a score of 0\n",
    "    df[\"positive_sentiment\"] = df[\"sentiments\"].apply(\n",
    "        lambda x: x[\"pos\"] + 1 * (10**-6)\n",
    "    )\n",
    "    df[\"neutral_sentiment\"] = df[\"sentiments\"].apply(\n",
    "        lambda x: x[\"neu\"] + 1 * (10**-6)\n",
    "    )\n",
    "    df[\"negative_sentiment\"] = df[\"sentiments\"].apply(\n",
    "        lambda x: x[\"neg\"] + 1 * (10**-6)\n",
    "    )\n",
    "    df[\"compound_sentiment\"] = df[\"sentiments\"].apply(\n",
    "        lambda x: x[\"compound\"] + 1 * (10**-6)\n",
    "    )\n",
    "    df[\"sentiment_text\"] = df[\"compound_sentiment\"].apply(\n",
    "        lambda x: \"positive\" if x > 0.05 else (\"negative\" if x < -0.05 else \"neutral\")\n",
    "    )\n",
    "    df.drop(columns=[\"sentiments\"], inplace=True)\n",
    "\n",
    "    print(\"Finished computing sentiment analysis \\n\")\n",
    "\n",
    "    return df"
   ]
  },
  {
   "cell_type": "code",
   "execution_count": 5,
   "id": "fef39b39-f79e-40b3-8ed7-97db2d87c82e",
   "metadata": {},
   "outputs": [
    {
     "name": "stdout",
     "output_type": "stream",
     "text": [
      "Finished computing sentiment analysis \n",
      "\n"
     ]
    }
   ],
   "source": [
    "# calculate sentiment scores\n",
    "df = compute_sentiments(df)"
   ]
  },
  {
   "cell_type": "code",
   "execution_count": 6,
   "id": "2e2aa487-efcf-4d06-a4b4-88ea5e29bebd",
   "metadata": {},
   "outputs": [],
   "source": [
    "df.to_csv(\"vader_sentiment_tweets.csv\", index=False)"
   ]
  },
  {
   "cell_type": "code",
   "execution_count": null,
   "id": "4444c8c6-68aa-4986-8482-9674e0652f0c",
   "metadata": {},
   "outputs": [],
   "source": []
  }
 ],
 "metadata": {
  "kernelspec": {
   "display_name": "Python 3 (ipykernel)",
   "language": "python",
   "name": "python3"
  },
  "language_info": {
   "codemirror_mode": {
    "name": "ipython",
    "version": 3
   },
   "file_extension": ".py",
   "mimetype": "text/x-python",
   "name": "python",
   "nbconvert_exporter": "python",
   "pygments_lexer": "ipython3",
   "version": "3.11.1"
  }
 },
 "nbformat": 4,
 "nbformat_minor": 5
}
