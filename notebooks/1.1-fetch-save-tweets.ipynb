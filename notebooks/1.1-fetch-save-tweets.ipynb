{
 "cells": [
  {
   "cell_type": "code",
   "execution_count": 6,
   "id": "3df5209b-8d86-4b05-90f1-451e4892ef41",
   "metadata": {
    "tags": []
   },
   "outputs": [],
   "source": [
    "import datetime\n",
    "import re\n",
    "\n",
    "import pandas as pd\n",
    "import snscrape\n",
    "import snscrape.modules.twitter as sntwitter"
   ]
  },
  {
   "cell_type": "markdown",
   "id": "53305927-e44a-4a29-bbd5-480e59c6da76",
   "metadata": {},
   "source": [
    "### Load Twitter Handles Dataframe"
   ]
  },
  {
   "cell_type": "code",
   "execution_count": 7,
   "id": "f3a99e3c-fe30-4b3b-9f0b-6902bf5874e6",
   "metadata": {
    "tags": []
   },
   "outputs": [],
   "source": [
    "df_handles = pd.read_csv('handles_scores.csv')"
   ]
  },
  {
   "cell_type": "markdown",
   "id": "39883f6f-73d6-4aff-9f27-cf046c11a6bf",
   "metadata": {},
   "source": [
    "###  Collect Tweets"
   ]
  },
  {
   "cell_type": "code",
   "execution_count": 8,
   "id": "7b939574-c699-44b2-b0c3-7570bf6a9a65",
   "metadata": {
    "tags": []
   },
   "outputs": [],
   "source": [
    "def get_time_delta(start_date: str) -> int:\n",
    "    \"\"\"Get the time delta of the tweets to be scraped. Initializing the database\n",
    "    is set to the first Jan of 2021. A user can specify the time delta to fetch the tweets since today\n",
    "\n",
    "    input update: int\n",
    "\n",
    "    returns -> int\n",
    "        time delta in unix\n",
    "    \"\"\"\n",
    "\n",
    "    # date time\n",
    "    if start_date:\n",
    "        date_from = datetime.datetime.strptime(start_date, \"%Y-%m-%d\")\n",
    "    else:\n",
    "        date_from = datetime.datetime(2021, 1, 1)\n",
    "    date_now = datetime.datetime.now()\n",
    "    delta = (date_now - date_from).days\n",
    "\n",
    "    time_delta1 = datetime.timedelta(days=delta)\n",
    "    date_since = date_now - time_delta1\n",
    "\n",
    "    # extract unix time\n",
    "    unix = datetime.datetime.timestamp(date_since)\n",
    "\n",
    "    return unix"
   ]
  },
  {
   "cell_type": "code",
   "execution_count": 12,
   "id": "8269b737-131b-42b3-b9f0-f650e34c66de",
   "metadata": {
    "tags": []
   },
   "outputs": [],
   "source": [
    "def fetch_tweets(username, party, start_date=False):\n",
    "    \"\"\"A function that fetch tweets from a user and return as pandas DF\"\"\"\n",
    "\n",
    "    unix = get_time_delta(start_date)\n",
    "\n",
    "    tweet_list = []\n",
    "    remove_rt = re.compile(r\"^RT \")\n",
    "\n",
    "    print(f\"Fetching tweets of {username}\")\n",
    "    # get tweets\n",
    "    for tweet_obj in sntwitter.TwitterSearchScraper(f\"from:{username}\").get_items():\n",
    "\n",
    "        created_at = tweet_obj.date  # utc time tweet created\n",
    "        tweet = tweet_obj.rawContent  # tweet\n",
    "        unix_created = datetime.datetime.timestamp(created_at)\n",
    "        print(tweet)\n",
    "\n",
    "        if (not re.search(remove_rt, tweet)) and (unix_created >= unix):\n",
    "            tweet_list.append(\n",
    "                dict(\n",
    "                    tweet_id=tweet_obj.id,\n",
    "                    username=tweet_obj.user.username,\n",
    "                    party=party,\n",
    "                    tweet=tweet,\n",
    "                    favorite_count=tweet_obj.likeCount,\n",
    "                    retweet_count=tweet_obj.retweetCount,\n",
    "                    created_at=created_at,\n",
    "                    source=tweet_obj.sourceLabel,\n",
    "                )\n",
    "            )\n",
    "        else:\n",
    "            break\n",
    "\n",
    "    if tweet_list == []:\n",
    "        print(\"Empty Tweets\")\n",
    "        return\n",
    "    else:\n",
    "\n",
    "        # create dataframe\n",
    "        df = pd.DataFrame(tweet_list)\n",
    "        return df"
   ]
  },
  {
   "cell_type": "code",
   "execution_count": 13,
   "id": "7547a82d-4069-44ec-bea5-e6fd4977fa17",
   "metadata": {
    "tags": []
   },
   "outputs": [],
   "source": [
    "def tweets(start_date: str) -> pd.DataFrame:\n",
    "\n",
    "    \"\"\"export tweets into a pandas dataframe for analysis\"\"\"\n",
    "\n",
    "    dfs = []\n",
    "    house_reps = list(zip(df_handles[\"Twitter Handle\"], df_handles.Party))\n",
    "    for user, party in house_reps[0:]:\n",
    "        try:\n",
    "\n",
    "            df = fetch_tweets(user, party, start_date=start_date)\n",
    "\n",
    "            try:\n",
    "                if df:\n",
    "                    pass\n",
    "            except ValueError:\n",
    "                dfs.append(df)\n",
    "        except snscrape.base.ScraperException:\n",
    "            break\n",
    "            \n",
    "    if len(dfs) > 1:\n",
    "        df = pd.concat(dfs)\n",
    "        df.reset_index(inplace=True, drop=True)\n",
    "        return df"
   ]
  },
  {
   "cell_type": "markdown",
   "id": "25e0f158-e744-4172-8158-3b5bb9667201",
   "metadata": {},
   "source": [
    "### Export Raw Tweets"
   ]
  },
  {
   "cell_type": "code",
   "execution_count": null,
   "id": "01250fce-ffb2-4111-89f2-7987e683413d",
   "metadata": {
    "tags": []
   },
   "outputs": [],
   "source": [
    "# fetch tweets from the past 90 days and export to a csv file\n",
    "\n",
    "df = tweets(start_date=\"2021-01-01\")\n",
    "\n"
   ]
  },
  {
   "cell_type": "code",
   "execution_count": null,
   "id": "38bc121b-1ddf-47f7-92ca-c063597a0276",
   "metadata": {},
   "outputs": [],
   "source": [
    "df.username=None"
   ]
  },
  {
   "cell_type": "code",
   "execution_count": null,
   "id": "316b59e5-a985-430f-8f2a-ea6b40c0b5f0",
   "metadata": {},
   "outputs": [],
   "source": [
    "# df.to_csv(\"raw_tweets.csv\", index=False)"
   ]
  }
 ],
 "metadata": {
  "kernelspec": {
   "display_name": "Python 3 (ipykernel)",
   "language": "python",
   "name": "python3"
  },
  "language_info": {
   "codemirror_mode": {
    "name": "ipython",
    "version": 3
   },
   "file_extension": ".py",
   "mimetype": "text/x-python",
   "name": "python",
   "nbconvert_exporter": "python",
   "pygments_lexer": "ipython3",
   "version": "3.11.1"
  }
 },
 "nbformat": 4,
 "nbformat_minor": 5
}
