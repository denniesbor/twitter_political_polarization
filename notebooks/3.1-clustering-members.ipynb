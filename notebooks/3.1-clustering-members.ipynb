{
 "cells": [
  {
   "cell_type": "markdown",
   "id": "4a6801c1-6442-4c80-a8bb-26b3a100ee07",
   "metadata": {},
   "source": [
    "### Clustering with K-Means\n",
    "In this notebook, we classify members based on their progressive scores from progressivepunch.com and govtrack.us.\n",
    "They estimate how politically left or right a member is based on their views and voting on polarized ideologies.\n",
    "\n",
    "The clustering algorithm is K-means, and the expected output should rank members as far left,  left-centrists, centrists, right-centrists, and far-right extremists."
   ]
  },
  {
   "cell_type": "code",
   "execution_count": 7,
   "id": "bcedfa58-73fe-4591-b3d0-cb3a0de192be",
   "metadata": {
    "tags": []
   },
   "outputs": [],
   "source": [
    "import matplotlib.pyplot as plt\n",
    "import numpy as np\n",
    "import pandas as pd\n",
    "import seaborn as sns"
   ]
  },
  {
   "cell_type": "code",
   "execution_count": 8,
   "id": "cd040da9-1e29-4a98-8304-465267cf05a9",
   "metadata": {
    "tags": []
   },
   "outputs": [
    {
     "name": "stdout",
     "output_type": "stream",
     "text": [
      "Requirement already satisfied: statsmodels in c:\\users\\borki\\appdata\\local\\programs\\python\\python311\\lib\\site-packages (0.13.5)\n",
      "Requirement already satisfied: pandas>=0.25 in c:\\users\\borki\\appdata\\local\\programs\\python\\python311\\lib\\site-packages (from statsmodels) (1.5.3)\n",
      "Requirement already satisfied: patsy>=0.5.2 in c:\\users\\borki\\appdata\\local\\programs\\python\\python311\\lib\\site-packages (from statsmodels) (0.5.3)\n",
      "Requirement already satisfied: packaging>=21.3 in c:\\users\\borki\\appdata\\local\\programs\\python\\python311\\lib\\site-packages (from statsmodels) (23.0)\n",
      "Requirement already satisfied: scipy>=1.3 in c:\\users\\borki\\appdata\\local\\programs\\python\\python311\\lib\\site-packages (from statsmodels) (1.10.0)\n",
      "Requirement already satisfied: numpy>=1.17 in c:\\users\\borki\\appdata\\local\\programs\\python\\python311\\lib\\site-packages (from statsmodels) (1.24.2)\n",
      "Requirement already satisfied: python-dateutil>=2.8.1 in c:\\users\\borki\\appdata\\local\\programs\\python\\python311\\lib\\site-packages (from pandas>=0.25->statsmodels) (2.8.2)\n",
      "Requirement already satisfied: pytz>=2020.1 in c:\\users\\borki\\appdata\\local\\programs\\python\\python311\\lib\\site-packages (from pandas>=0.25->statsmodels) (2022.7.1)\n",
      "Requirement already satisfied: six in c:\\users\\borki\\appdata\\local\\programs\\python\\python311\\lib\\site-packages (from patsy>=0.5.2->statsmodels) (1.16.0)\n"
     ]
    }
   ],
   "source": [
    "!pip install statsmodels"
   ]
  },
  {
   "cell_type": "code",
   "execution_count": 9,
   "id": "da94825a-51ed-4903-843f-f607fa2fe5ac",
   "metadata": {
    "tags": []
   },
   "outputs": [],
   "source": [
    "# read dfs\n",
    "# Joining the cleaned tweets with the handles to get progressive scores\n",
    "\n",
    "twttr_df = pd.read_csv(\"handles_scores.csv\")\n",
    "clean_df = pd.read_csv(\"clean_tweets.csv\")"
   ]
  },
  {
   "cell_type": "code",
   "execution_count": 10,
   "id": "68f4fc84-0ceb-46c9-87db-19e563a21256",
   "metadata": {
    "tags": []
   },
   "outputs": [
    {
     "data": {
      "text/html": [
       "<div>\n",
       "<style scoped>\n",
       "    .dataframe tbody tr th:only-of-type {\n",
       "        vertical-align: middle;\n",
       "    }\n",
       "\n",
       "    .dataframe tbody tr th {\n",
       "        vertical-align: top;\n",
       "    }\n",
       "\n",
       "    .dataframe thead th {\n",
       "        text-align: right;\n",
       "    }\n",
       "</style>\n",
       "<table border=\"1\" class=\"dataframe\">\n",
       "  <thead>\n",
       "    <tr style=\"text-align: right;\">\n",
       "      <th></th>\n",
       "      <th>tweet_id</th>\n",
       "      <th>username</th>\n",
       "      <th>party</th>\n",
       "      <th>tweet</th>\n",
       "      <th>clean_text</th>\n",
       "      <th>favorite_count</th>\n",
       "      <th>retweet_count</th>\n",
       "      <th>created_at</th>\n",
       "      <th>source</th>\n",
       "      <th>social_policy</th>\n",
       "      <th>geopolitical_policy</th>\n",
       "      <th>policies</th>\n",
       "      <th>policy</th>\n",
       "    </tr>\n",
       "  </thead>\n",
       "  <tbody>\n",
       "    <tr>\n",
       "      <th>0</th>\n",
       "      <td>1499070296338350081</td>\n",
       "      <td>boblatta</td>\n",
       "      <td>R</td>\n",
       "      <td>The PADE Act would ban the importation of Russ...</td>\n",
       "      <td>the pade act would ban the importation of russ...</td>\n",
       "      <td>3</td>\n",
       "      <td>0</td>\n",
       "      <td>2022-03-02 17:13:04+00:00</td>\n",
       "      <td>Twitter Web App</td>\n",
       "      <td>NaN</td>\n",
       "      <td>Geo Political Policies</td>\n",
       "      <td>['Ukraine-Russia', '']</td>\n",
       "      <td>Ukraine-Russia</td>\n",
       "    </tr>\n",
       "    <tr>\n",
       "      <th>1</th>\n",
       "      <td>1503834686937837572</td>\n",
       "      <td>RepThompson</td>\n",
       "      <td>D</td>\n",
       "      <td>Last week, I held a town hall with @USRepKCast...</td>\n",
       "      <td>last week held town hall with on the impact of...</td>\n",
       "      <td>14</td>\n",
       "      <td>4</td>\n",
       "      <td>2022-03-15 20:45:03+00:00</td>\n",
       "      <td>Hootsuite Inc.</td>\n",
       "      <td>Social Policies</td>\n",
       "      <td>NaN</td>\n",
       "      <td>['Substance Abuse and Mental Health', 'Climate...</td>\n",
       "      <td>Climate Change</td>\n",
       "    </tr>\n",
       "  </tbody>\n",
       "</table>\n",
       "</div>"
      ],
      "text/plain": [
       "              tweet_id     username party  \\\n",
       "0  1499070296338350081     boblatta     R   \n",
       "1  1503834686937837572  RepThompson     D   \n",
       "\n",
       "                                               tweet  \\\n",
       "0  The PADE Act would ban the importation of Russ...   \n",
       "1  Last week, I held a town hall with @USRepKCast...   \n",
       "\n",
       "                                          clean_text  favorite_count  \\\n",
       "0  the pade act would ban the importation of russ...               3   \n",
       "1  last week held town hall with on the impact of...              14   \n",
       "\n",
       "   retweet_count                 created_at           source    social_policy  \\\n",
       "0              0  2022-03-02 17:13:04+00:00  Twitter Web App              NaN   \n",
       "1              4  2022-03-15 20:45:03+00:00   Hootsuite Inc.  Social Policies   \n",
       "\n",
       "      geopolitical_policy                                           policies  \\\n",
       "0  Geo Political Policies                             ['Ukraine-Russia', '']   \n",
       "1                     NaN  ['Substance Abuse and Mental Health', 'Climate...   \n",
       "\n",
       "           policy  \n",
       "0  Ukraine-Russia  \n",
       "1  Climate Change  "
      ]
     },
     "execution_count": 10,
     "metadata": {},
     "output_type": "execute_result"
    }
   ],
   "source": [
    "clean_df.head(2)"
   ]
  },
  {
   "cell_type": "code",
   "execution_count": 11,
   "id": "9a75aab4-e3bc-4459-90e9-459bd12f1871",
   "metadata": {
    "tags": []
   },
   "outputs": [
    {
     "data": {
      "text/html": [
       "<div>\n",
       "<style scoped>\n",
       "    .dataframe tbody tr th:only-of-type {\n",
       "        vertical-align: middle;\n",
       "    }\n",
       "\n",
       "    .dataframe tbody tr th {\n",
       "        vertical-align: top;\n",
       "    }\n",
       "\n",
       "    .dataframe thead th {\n",
       "        text-align: right;\n",
       "    }\n",
       "</style>\n",
       "<table border=\"1\" class=\"dataframe\">\n",
       "  <thead>\n",
       "    <tr style=\"text-align: right;\">\n",
       "      <th></th>\n",
       "      <th>name</th>\n",
       "      <th>name_punch</th>\n",
       "      <th>name_gov</th>\n",
       "      <th>Twitter Handle</th>\n",
       "      <th>St/Dis</th>\n",
       "      <th>Party</th>\n",
       "      <th>progressive_score</th>\n",
       "      <th>state_tilt</th>\n",
       "      <th>rank</th>\n",
       "      <th>score</th>\n",
       "    </tr>\n",
       "  </thead>\n",
       "  <tbody>\n",
       "    <tr>\n",
       "      <th>0</th>\n",
       "      <td>Adams, Alma</td>\n",
       "      <td>Adams, Alma</td>\n",
       "      <td>Adams, Alma</td>\n",
       "      <td>RepAdams</td>\n",
       "      <td>NC12</td>\n",
       "      <td>D</td>\n",
       "      <td>96.91</td>\n",
       "      <td>Strong Dem</td>\n",
       "      <td>#372</td>\n",
       "      <td>0.22</td>\n",
       "    </tr>\n",
       "    <tr>\n",
       "      <th>1</th>\n",
       "      <td>Aderholt, Robert</td>\n",
       "      <td>Aderholt, Robert</td>\n",
       "      <td>Aderholt, Robert</td>\n",
       "      <td>Robert_Aderholt</td>\n",
       "      <td>AL04</td>\n",
       "      <td>R</td>\n",
       "      <td>5.96</td>\n",
       "      <td>Strong Rep</td>\n",
       "      <td>#146</td>\n",
       "      <td>0.65</td>\n",
       "    </tr>\n",
       "    <tr>\n",
       "      <th>2</th>\n",
       "      <td>Aguilar, Pete</td>\n",
       "      <td>Aguilar, Pete</td>\n",
       "      <td>Aguilar, Pete</td>\n",
       "      <td>RepPeteAguilar</td>\n",
       "      <td>CA31</td>\n",
       "      <td>D</td>\n",
       "      <td>92.43</td>\n",
       "      <td>Strong Dem</td>\n",
       "      <td>#296</td>\n",
       "      <td>0.30</td>\n",
       "    </tr>\n",
       "    <tr>\n",
       "      <th>3</th>\n",
       "      <td>Allen, Rick</td>\n",
       "      <td>Allen, Rick</td>\n",
       "      <td>Allen, Rick</td>\n",
       "      <td>RepRickAllen</td>\n",
       "      <td>GA12</td>\n",
       "      <td>R</td>\n",
       "      <td>0.64</td>\n",
       "      <td>Strong Rep</td>\n",
       "      <td>#26</td>\n",
       "      <td>0.82</td>\n",
       "    </tr>\n",
       "    <tr>\n",
       "      <th>4</th>\n",
       "      <td>Allred, Colin</td>\n",
       "      <td>Allred, Colin</td>\n",
       "      <td>Allred, Colin</td>\n",
       "      <td>RepColinAllred</td>\n",
       "      <td>TX32</td>\n",
       "      <td>D</td>\n",
       "      <td>95.00</td>\n",
       "      <td>Leans Dem</td>\n",
       "      <td>#217</td>\n",
       "      <td>0.44</td>\n",
       "    </tr>\n",
       "  </tbody>\n",
       "</table>\n",
       "</div>"
      ],
      "text/plain": [
       "               name        name_punch          name_gov   Twitter Handle  \\\n",
       "0       Adams, Alma       Adams, Alma       Adams, Alma         RepAdams   \n",
       "1  Aderholt, Robert  Aderholt, Robert  Aderholt, Robert  Robert_Aderholt   \n",
       "2     Aguilar, Pete     Aguilar, Pete     Aguilar, Pete   RepPeteAguilar   \n",
       "3       Allen, Rick       Allen, Rick       Allen, Rick     RepRickAllen   \n",
       "4     Allred, Colin     Allred, Colin     Allred, Colin   RepColinAllred   \n",
       "\n",
       "  St/Dis Party  progressive_score  state_tilt  rank  score  \n",
       "0   NC12     D              96.91  Strong Dem  #372   0.22  \n",
       "1   AL04     R               5.96  Strong Rep  #146   0.65  \n",
       "2   CA31     D              92.43  Strong Dem  #296   0.30  \n",
       "3   GA12     R               0.64  Strong Rep   #26   0.82  \n",
       "4   TX32     D              95.00   Leans Dem  #217   0.44  "
      ]
     },
     "execution_count": 11,
     "metadata": {},
     "output_type": "execute_result"
    }
   ],
   "source": [
    "twttr_df.head(5)"
   ]
  },
  {
   "cell_type": "code",
   "execution_count": 12,
   "id": "c8441f15-0bc0-48cf-b85f-9d787194309a",
   "metadata": {
    "tags": []
   },
   "outputs": [
    {
     "data": {
      "text/html": [
       "<div>\n",
       "<style scoped>\n",
       "    .dataframe tbody tr th:only-of-type {\n",
       "        vertical-align: middle;\n",
       "    }\n",
       "\n",
       "    .dataframe tbody tr th {\n",
       "        vertical-align: top;\n",
       "    }\n",
       "\n",
       "    .dataframe thead th {\n",
       "        text-align: right;\n",
       "    }\n",
       "</style>\n",
       "<table border=\"1\" class=\"dataframe\">\n",
       "  <thead>\n",
       "    <tr style=\"text-align: right;\">\n",
       "      <th></th>\n",
       "      <th>tweet_id</th>\n",
       "      <th>username</th>\n",
       "      <th>party</th>\n",
       "      <th>tweet</th>\n",
       "      <th>clean_text</th>\n",
       "      <th>favorite_count</th>\n",
       "      <th>retweet_count</th>\n",
       "      <th>created_at</th>\n",
       "      <th>source</th>\n",
       "      <th>social_policy</th>\n",
       "      <th>geopolitical_policy</th>\n",
       "      <th>policies</th>\n",
       "      <th>policy</th>\n",
       "      <th>name_punch</th>\n",
       "      <th>name_gov</th>\n",
       "      <th>progressive_score</th>\n",
       "      <th>state_tilt</th>\n",
       "      <th>rank</th>\n",
       "      <th>score</th>\n",
       "    </tr>\n",
       "  </thead>\n",
       "  <tbody>\n",
       "    <tr>\n",
       "      <th>0</th>\n",
       "      <td>1499070296338350081</td>\n",
       "      <td>boblatta</td>\n",
       "      <td>R</td>\n",
       "      <td>The PADE Act would ban the importation of Russ...</td>\n",
       "      <td>the pade act would ban the importation of russ...</td>\n",
       "      <td>3</td>\n",
       "      <td>0</td>\n",
       "      <td>2022-03-02 17:13:04+00:00</td>\n",
       "      <td>Twitter Web App</td>\n",
       "      <td>NaN</td>\n",
       "      <td>Geo Political Policies</td>\n",
       "      <td>['Ukraine-Russia', '']</td>\n",
       "      <td>Ukraine-Russia</td>\n",
       "      <td>Latta, Bob</td>\n",
       "      <td>Latta, Robert</td>\n",
       "      <td>1.56</td>\n",
       "      <td>Strong Rep</td>\n",
       "      <td>#45</td>\n",
       "      <td>0.77</td>\n",
       "    </tr>\n",
       "    <tr>\n",
       "      <th>1</th>\n",
       "      <td>1503834686937837572</td>\n",
       "      <td>RepThompson</td>\n",
       "      <td>D</td>\n",
       "      <td>Last week, I held a town hall with @USRepKCast...</td>\n",
       "      <td>last week held town hall with on the impact of...</td>\n",
       "      <td>14</td>\n",
       "      <td>4</td>\n",
       "      <td>2022-03-15 20:45:03+00:00</td>\n",
       "      <td>Hootsuite Inc.</td>\n",
       "      <td>Social Policies</td>\n",
       "      <td>NaN</td>\n",
       "      <td>['Substance Abuse and Mental Health', 'Climate...</td>\n",
       "      <td>Climate Change</td>\n",
       "      <td>Thompson, Mike</td>\n",
       "      <td>Thompson, Mike</td>\n",
       "      <td>92.38</td>\n",
       "      <td>Strong Dem</td>\n",
       "      <td>#290</td>\n",
       "      <td>0.30</td>\n",
       "    </tr>\n",
       "    <tr>\n",
       "      <th>2</th>\n",
       "      <td>1574890109010411521</td>\n",
       "      <td>RepSwalwell</td>\n",
       "      <td>D</td>\n",
       "      <td>Rubio: Abortion is “manslaughter”\\nLaxalt: Roe...</td>\n",
       "      <td>rubio abortion is manslaughter laxalt roe was ...</td>\n",
       "      <td>42440</td>\n",
       "      <td>13339</td>\n",
       "      <td>2022-09-27 22:33:56+00:00</td>\n",
       "      <td>Twitter for iPhone</td>\n",
       "      <td>Social Policies</td>\n",
       "      <td>NaN</td>\n",
       "      <td>['Abortion', '']</td>\n",
       "      <td>Abortion</td>\n",
       "      <td>Swalwell, Eric</td>\n",
       "      <td>Swalwell, Eric</td>\n",
       "      <td>94.87</td>\n",
       "      <td>Strong Dem</td>\n",
       "      <td>#301</td>\n",
       "      <td>0.30</td>\n",
       "    </tr>\n",
       "  </tbody>\n",
       "</table>\n",
       "</div>"
      ],
      "text/plain": [
       "              tweet_id     username party  \\\n",
       "0  1499070296338350081     boblatta     R   \n",
       "1  1503834686937837572  RepThompson     D   \n",
       "2  1574890109010411521  RepSwalwell     D   \n",
       "\n",
       "                                               tweet  \\\n",
       "0  The PADE Act would ban the importation of Russ...   \n",
       "1  Last week, I held a town hall with @USRepKCast...   \n",
       "2  Rubio: Abortion is “manslaughter”\\nLaxalt: Roe...   \n",
       "\n",
       "                                          clean_text  favorite_count  \\\n",
       "0  the pade act would ban the importation of russ...               3   \n",
       "1  last week held town hall with on the impact of...              14   \n",
       "2  rubio abortion is manslaughter laxalt roe was ...           42440   \n",
       "\n",
       "   retweet_count                 created_at              source  \\\n",
       "0              0  2022-03-02 17:13:04+00:00     Twitter Web App   \n",
       "1              4  2022-03-15 20:45:03+00:00      Hootsuite Inc.   \n",
       "2          13339  2022-09-27 22:33:56+00:00  Twitter for iPhone   \n",
       "\n",
       "     social_policy     geopolitical_policy  \\\n",
       "0              NaN  Geo Political Policies   \n",
       "1  Social Policies                     NaN   \n",
       "2  Social Policies                     NaN   \n",
       "\n",
       "                                            policies          policy  \\\n",
       "0                             ['Ukraine-Russia', '']  Ukraine-Russia   \n",
       "1  ['Substance Abuse and Mental Health', 'Climate...  Climate Change   \n",
       "2                                   ['Abortion', '']        Abortion   \n",
       "\n",
       "       name_punch        name_gov  progressive_score  state_tilt  rank  score  \n",
       "0      Latta, Bob   Latta, Robert               1.56  Strong Rep   #45   0.77  \n",
       "1  Thompson, Mike  Thompson, Mike              92.38  Strong Dem  #290   0.30  \n",
       "2  Swalwell, Eric  Swalwell, Eric              94.87  Strong Dem  #301   0.30  "
      ]
     },
     "execution_count": 12,
     "metadata": {},
     "output_type": "execute_result"
    }
   ],
   "source": [
    "# Joining the cleaned tweets with the handles to get progressive scores\n",
    "\n",
    "df = clean_df.merge(\n",
    "    twttr_df[\n",
    "        [\n",
    "            \"Twitter Handle\",\n",
    "            \"Party\",\n",
    "            \"name_punch\",\n",
    "            \"name_gov\",\n",
    "            \"progressive_score\",\n",
    "            \"state_tilt\",\n",
    "            \"rank\",\n",
    "            \"score\",\n",
    "        ]\n",
    "    ],\n",
    "    left_on=[\"username\", \"party\"],\n",
    "    right_on=[\"Twitter Handle\", \"Party\"],\n",
    "    how=\"left\",\n",
    ")\n",
    "df.drop([\"Twitter Handle\", \"Party\"], axis=1, inplace=True)\n",
    "\n",
    "df.head(3)"
   ]
  },
  {
   "cell_type": "markdown",
   "id": "e8f2206c-7814-4671-bcb7-8e4f7f7aa929",
   "metadata": {},
   "source": [
    "## K-Means Clustering"
   ]
  },
  {
   "cell_type": "code",
   "execution_count": 13,
   "id": "2f25afa7-eb66-4eca-973d-811ac361cce1",
   "metadata": {
    "tags": []
   },
   "outputs": [],
   "source": [
    "from sklearn.cluster import KMeans"
   ]
  },
  {
   "cell_type": "markdown",
   "id": "3e59c91b-f9d3-4515-97ba-53c62e7cb668",
   "metadata": {},
   "source": [
    "#### Clustering based on GovTrack scores"
   ]
  },
  {
   "cell_type": "code",
   "execution_count": 17,
   "id": "d538a6ea-565f-42e8-8b23-5a72c13ff196",
   "metadata": {
    "tags": []
   },
   "outputs": [
    {
     "name": "stderr",
     "output_type": "stream",
     "text": [
      "C:\\Users\\borki\\AppData\\Local\\Programs\\Python\\Python311\\Lib\\site-packages\\sklearn\\cluster\\_kmeans.py:870: FutureWarning: The default value of `n_init` will change from 10 to 'auto' in 1.4. Set the value of `n_init` explicitly to suppress the warning\n",
      "  warnings.warn(\n",
      "C:\\Users\\borki\\AppData\\Local\\Programs\\Python\\Python311\\Lib\\site-packages\\sklearn\\cluster\\_kmeans.py:870: FutureWarning: The default value of `n_init` will change from 10 to 'auto' in 1.4. Set the value of `n_init` explicitly to suppress the warning\n",
      "  warnings.warn(\n",
      "C:\\Users\\borki\\AppData\\Local\\Programs\\Python\\Python311\\Lib\\site-packages\\sklearn\\cluster\\_kmeans.py:870: FutureWarning: The default value of `n_init` will change from 10 to 'auto' in 1.4. Set the value of `n_init` explicitly to suppress the warning\n",
      "  warnings.warn(\n",
      "C:\\Users\\borki\\AppData\\Local\\Programs\\Python\\Python311\\Lib\\site-packages\\sklearn\\cluster\\_kmeans.py:870: FutureWarning: The default value of `n_init` will change from 10 to 'auto' in 1.4. Set the value of `n_init` explicitly to suppress the warning\n",
      "  warnings.warn(\n",
      "C:\\Users\\borki\\AppData\\Local\\Programs\\Python\\Python311\\Lib\\site-packages\\sklearn\\cluster\\_kmeans.py:870: FutureWarning: The default value of `n_init` will change from 10 to 'auto' in 1.4. Set the value of `n_init` explicitly to suppress the warning\n",
      "  warnings.warn(\n",
      "C:\\Users\\borki\\AppData\\Local\\Programs\\Python\\Python311\\Lib\\site-packages\\sklearn\\cluster\\_kmeans.py:870: FutureWarning: The default value of `n_init` will change from 10 to 'auto' in 1.4. Set the value of `n_init` explicitly to suppress the warning\n",
      "  warnings.warn(\n",
      "C:\\Users\\borki\\AppData\\Local\\Programs\\Python\\Python311\\Lib\\site-packages\\sklearn\\cluster\\_kmeans.py:870: FutureWarning: The default value of `n_init` will change from 10 to 'auto' in 1.4. Set the value of `n_init` explicitly to suppress the warning\n",
      "  warnings.warn(\n",
      "C:\\Users\\borki\\AppData\\Local\\Programs\\Python\\Python311\\Lib\\site-packages\\sklearn\\cluster\\_kmeans.py:870: FutureWarning: The default value of `n_init` will change from 10 to 'auto' in 1.4. Set the value of `n_init` explicitly to suppress the warning\n",
      "  warnings.warn(\n",
      "C:\\Users\\borki\\AppData\\Local\\Programs\\Python\\Python311\\Lib\\site-packages\\sklearn\\cluster\\_kmeans.py:870: FutureWarning: The default value of `n_init` will change from 10 to 'auto' in 1.4. Set the value of `n_init` explicitly to suppress the warning\n",
      "  warnings.warn(\n",
      "C:\\Users\\borki\\AppData\\Local\\Programs\\Python\\Python311\\Lib\\site-packages\\sklearn\\cluster\\_kmeans.py:870: FutureWarning: The default value of `n_init` will change from 10 to 'auto' in 1.4. Set the value of `n_init` explicitly to suppress the warning\n",
      "  warnings.warn(\n"
     ]
    }
   ],
   "source": [
    "df_not_na = df[~(df.score.isna() | df.progressive_score.isna())]\n",
    "\n",
    "# clustering based on govtrack scores\n",
    "X1 = df_not_na[[\"score\"]].iloc[:, :].values\n",
    "inertia = []\n",
    "for n in range(1, 11):\n",
    "    algorithm = KMeans(\n",
    "        n_clusters=n,\n",
    "        tol=0.0001,\n",
    "        random_state=111,\n",
    "        algorithm=\"lloyd\",\n",
    "    )\n",
    "    try:\n",
    "        algorithm.fit(X1)\n",
    "    except:\n",
    "        pass\n",
    "    inertia.append(algorithm.inertia_)"
   ]
  },
  {
   "cell_type": "code",
   "execution_count": 18,
   "id": "5389a939-bc73-4077-954d-17cd5b26c28a",
   "metadata": {
    "tags": []
   },
   "outputs": [
    {
     "data": {
      "image/png": "[encoded data removed]",
      "text/plain": [
       "<Figure size 600x400 with 1 Axes>"
      ]
     },
     "metadata": {},
     "output_type": "display_data"
    }
   ],
   "source": [
    "plt.figure(figsize=(6, 4))\n",
    "plt.plot(np.arange(1, 11), inertia, \"o\")\n",
    "plt.plot(np.arange(1, 11), inertia, \"-\", alpha=0.5)\n",
    "plt.xlabel(\"Number of Clusters\"), plt.ylabel(\"Inertia\")\n",
    "plt.show()"
   ]
  },
  {
   "cell_type": "code",
   "execution_count": 19,
   "id": "d08dcc61-9df1-4d1b-8025-697954fd94c9",
   "metadata": {
    "tags": []
   },
   "outputs": [
    {
     "name": "stderr",
     "output_type": "stream",
     "text": [
      "C:\\Users\\borki\\AppData\\Local\\Programs\\Python\\Python311\\Lib\\site-packages\\sklearn\\cluster\\_kmeans.py:870: FutureWarning: The default value of `n_init` will change from 10 to 'auto' in 1.4. Set the value of `n_init` explicitly to suppress the warning\n",
      "  warnings.warn(\n"
     ]
    },
    {
     "data": {
      "text/html": [
       "<style>#sk-container-id-2 {color: black;background-color: white;}#sk-container-id-2 pre{padding: 0;}#sk-container-id-2 div.sk-toggleable {background-color: white;}#sk-container-id-2 label.sk-toggleable__label {cursor: pointer;display: block;width: 100%;margin-bottom: 0;padding: 0.3em;box-sizing: border-box;text-align: center;}#sk-container-id-2 label.sk-toggleable__label-arrow:before {content: \"▸\";float: left;margin-right: 0.25em;color: #696969;}#sk-container-id-2 label.sk-toggleable__label-arrow:hover:before {color: black;}#sk-container-id-2 div.sk-estimator:hover label.sk-toggleable__label-arrow:before {color: black;}#sk-container-id-2 div.sk-toggleable__content {max-height: 0;max-width: 0;overflow: hidden;text-align: left;background-color: #f0f8ff;}#sk-container-id-2 div.sk-toggleable__content pre {margin: 0.2em;color: black;border-radius: 0.25em;background-color: #f0f8ff;}#sk-container-id-2 input.sk-toggleable__control:checked~div.sk-toggleable__content {max-height: 200px;max-width: 100%;overflow: auto;}#sk-container-id-2 input.sk-toggleable__control:checked~label.sk-toggleable__label-arrow:before {content: \"▾\";}#sk-container-id-2 div.sk-estimator input.sk-toggleable__control:checked~label.sk-toggleable__label {background-color: #d4ebff;}#sk-container-id-2 div.sk-label input.sk-toggleable__control:checked~label.sk-toggleable__label {background-color: #d4ebff;}#sk-container-id-2 input.sk-hidden--visually {border: 0;clip: rect(1px 1px 1px 1px);clip: rect(1px, 1px, 1px, 1px);height: 1px;margin: -1px;overflow: hidden;padding: 0;position: absolute;width: 1px;}#sk-container-id-2 div.sk-estimator {font-family: monospace;background-color: #f0f8ff;border: 1px dotted black;border-radius: 0.25em;box-sizing: border-box;margin-bottom: 0.5em;}#sk-container-id-2 div.sk-estimator:hover {background-color: #d4ebff;}#sk-container-id-2 div.sk-parallel-item::after {content: \"\";width: 100%;border-bottom: 1px solid gray;flex-grow: 1;}#sk-container-id-2 div.sk-label:hover label.sk-toggleable__label {background-color: #d4ebff;}#sk-container-id-2 div.sk-serial::before {content: \"\";position: absolute;border-left: 1px solid gray;box-sizing: border-box;top: 0;bottom: 0;left: 50%;z-index: 0;}#sk-container-id-2 div.sk-serial {display: flex;flex-direction: column;align-items: center;background-color: white;padding-right: 0.2em;padding-left: 0.2em;position: relative;}#sk-container-id-2 div.sk-item {position: relative;z-index: 1;}#sk-container-id-2 div.sk-parallel {display: flex;align-items: stretch;justify-content: center;background-color: white;position: relative;}#sk-container-id-2 div.sk-item::before, #sk-container-id-2 div.sk-parallel-item::before {content: \"\";position: absolute;border-left: 1px solid gray;box-sizing: border-box;top: 0;bottom: 0;left: 50%;z-index: -1;}#sk-container-id-2 div.sk-parallel-item {display: flex;flex-direction: column;z-index: 1;position: relative;background-color: white;}#sk-container-id-2 div.sk-parallel-item:first-child::after {align-self: flex-end;width: 50%;}#sk-container-id-2 div.sk-parallel-item:last-child::after {align-self: flex-start;width: 50%;}#sk-container-id-2 div.sk-parallel-item:only-child::after {width: 0;}#sk-container-id-2 div.sk-dashed-wrapped {border: 1px dashed gray;margin: 0 0.4em 0.5em 0.4em;box-sizing: border-box;padding-bottom: 0.4em;background-color: white;}#sk-container-id-2 div.sk-label label {font-family: monospace;font-weight: bold;display: inline-block;line-height: 1.2em;}#sk-container-id-2 div.sk-label-container {text-align: center;}#sk-container-id-2 div.sk-container {/* jupyter's `normalize.less` sets `[hidden] { display: none; }` but bootstrap.min.css set `[hidden] { display: none !important; }` so we also need the `!important` here to be able to override the default hidden behavior on the sphinx rendered scikit-learn.org. See: https://github.com/scikit-learn/scikit-learn/issues/21755 */display: inline-block !important;position: relative;}#sk-container-id-2 div.sk-text-repr-fallback {display: none;}</style><div id=\"sk-container-id-2\" class=\"sk-top-container\"><div class=\"sk-text-repr-fallback\"><pre>KMeans(n_clusters=5, random_state=111)</pre><b>In a Jupyter environment, please rerun this cell to show the HTML representation or trust the notebook. <br />On GitHub, the HTML representation is unable to render, please try loading this page with nbviewer.org.</b></div><div class=\"sk-container\" hidden><div class=\"sk-item\"><div class=\"sk-estimator sk-toggleable\"><input class=\"sk-toggleable__control sk-hidden--visually\" id=\"sk-estimator-id-2\" type=\"checkbox\" checked><label for=\"sk-estimator-id-2\" class=\"sk-toggleable__label sk-toggleable__label-arrow\">KMeans</label><div class=\"sk-toggleable__content\"><pre>KMeans(n_clusters=5, random_state=111)</pre></div></div></div></div></div>"
      ],
      "text/plain": [
       "KMeans(n_clusters=5, random_state=111)"
      ]
     },
     "execution_count": 19,
     "metadata": {},
     "output_type": "execute_result"
    }
   ],
   "source": [
    "# initialize with 5 clusters\n",
    "\n",
    "algorithm = KMeans(\n",
    "    n_clusters=5,\n",
    "    tol=0.0001,\n",
    "    random_state=111,\n",
    "    algorithm=\"lloyd\",\n",
    ")\n",
    "\n",
    "algorithm.fit(X1)"
   ]
  },
  {
   "cell_type": "code",
   "execution_count": 22,
   "id": "78b86bd3-21f4-482e-97bd-707876db2228",
   "metadata": {
    "tags": []
   },
   "outputs": [
    {
     "data": {
      "text/plain": [
       "array([[0.83236866],\n",
       "       [0.25676991],\n",
       "       [0.39098105],\n",
       "       [0.67916606],\n",
       "       [0.11972604]])"
      ]
     },
     "execution_count": 22,
     "metadata": {},
     "output_type": "execute_result"
    }
   ],
   "source": [
    "# centroids of the clusters\n",
    "\n",
    "centroids = algorithm.cluster_centers_\n",
    "centroids"
   ]
  },
  {
   "cell_type": "code",
   "execution_count": 23,
   "id": "57b3955f-0581-4ace-a5b7-4eb7ec0f00ec",
   "metadata": {
    "tags": []
   },
   "outputs": [],
   "source": [
    "# sort the labels based on centroid values e.g. lowest -> 0, highest -> 4\n",
    "# this is useful in making the plots\n",
    "\n",
    "# create a look up table\n",
    "idx = np.argsort(algorithm.cluster_centers_.sum(axis=1))\n",
    "lut = np.zeros_like(idx)\n",
    "\n",
    "lut[idx] = np.arange(5)"
   ]
  },
  {
   "cell_type": "code",
   "execution_count": 24,
   "id": "412c3a7d-cf28-49da-946f-0b5860a123b1",
   "metadata": {
    "tags": []
   },
   "outputs": [
    {
     "name": "stderr",
     "output_type": "stream",
     "text": [
      "C:\\Users\\borki\\AppData\\Local\\Temp\\ipykernel_5232\\372910235.py:4: SettingWithCopyWarning: \n",
      "A value is trying to be set on a copy of a slice from a DataFrame.\n",
      "Try using .loc[row_indexer,col_indexer] = value instead\n",
      "\n",
      "See the caveats in the documentation: https://pandas.pydata.org/pandas-docs/stable/user_guide/indexing.html#returning-a-view-versus-a-copy\n",
      "  df_not_na[\"govtrack_cluster\"] = lut[algorithm.labels_]\n"
     ]
    }
   ],
   "source": [
    "# create a govtrack cluster category in the dataframe\n",
    "\n",
    "\n",
    "df_not_na[\"govtrack_cluster\"] = lut[algorithm.labels_]"
   ]
  },
  {
   "cell_type": "markdown",
   "id": "f5b5e58c-2ca2-4597-92a1-ddb775007fa3",
   "metadata": {},
   "source": [
    "#### Cluster based on Progressivepunch scores"
   ]
  },
  {
   "cell_type": "code",
   "execution_count": 25,
   "id": "998fe58b-a573-41b9-9095-d175302e7192",
   "metadata": {
    "tags": []
   },
   "outputs": [
    {
     "name": "stderr",
     "output_type": "stream",
     "text": [
      "C:\\Users\\borki\\AppData\\Local\\Programs\\Python\\Python311\\Lib\\site-packages\\sklearn\\cluster\\_kmeans.py:870: FutureWarning: The default value of `n_init` will change from 10 to 'auto' in 1.4. Set the value of `n_init` explicitly to suppress the warning\n",
      "  warnings.warn(\n",
      "C:\\Users\\borki\\AppData\\Local\\Temp\\ipykernel_5232\\3054659862.py:26: SettingWithCopyWarning: \n",
      "A value is trying to be set on a copy of a slice from a DataFrame.\n",
      "Try using .loc[row_indexer,col_indexer] = value instead\n",
      "\n",
      "See the caveats in the documentation: https://pandas.pydata.org/pandas-docs/stable/user_guide/indexing.html#returning-a-view-versus-a-copy\n",
      "  df_not_na[\"progressive_cluster\"] = lut[algorithm.labels_]\n"
     ]
    }
   ],
   "source": [
    "# clustering based on progressive scores scores\n",
    "X1 = df_not_na[[\"progressive_score\"]].iloc[:, :].values\n",
    "\n",
    "# initialize with 5 clusters\n",
    "\n",
    "algorithm = KMeans(\n",
    "    n_clusters=5,\n",
    "    tol=0.0001,\n",
    "    random_state=111,\n",
    "    algorithm=\"lloyd\",\n",
    ")\n",
    "\n",
    "algorithm.fit(X1)\n",
    "\n",
    "# sort the labels based on centroid values e.g. lowest -> 0, highest -> 4\n",
    "# this is useful in making the plots\n",
    "\n",
    "# create a look up table\n",
    "idx = np.argsort(algorithm.cluster_centers_.sum(axis=1))\n",
    "lut = np.zeros_like(idx)\n",
    "\n",
    "lut[idx] = (np.arange(5))[::-1]\n",
    "\n",
    "# create a govtrack cluster category in the dataframe\n",
    "\n",
    "df_not_na[\"progressive_cluster\"] = lut[algorithm.labels_]"
   ]
  },
  {
   "cell_type": "code",
   "execution_count": 26,
   "id": "df764f47-5dbf-41d5-bdcd-e2e67a6f9299",
   "metadata": {
    "tags": []
   },
   "outputs": [
    {
     "name": "stderr",
     "output_type": "stream",
     "text": [
      "C:\\Users\\borki\\AppData\\Local\\Temp\\ipykernel_5232\\1960629483.py:9: SettingWithCopyWarning: \n",
      "A value is trying to be set on a copy of a slice from a DataFrame.\n",
      "Try using .loc[row_indexer,col_indexer] = value instead\n",
      "\n",
      "See the caveats in the documentation: https://pandas.pydata.org/pandas-docs/stable/user_guide/indexing.html#returning-a-view-versus-a-copy\n",
      "  df_not_na[\"govtrack_class\"] = df_not_na.govtrack_cluster.apply(\n"
     ]
    }
   ],
   "source": [
    "# create labels from gov_track categories\n",
    "\n",
    "# cluster labels\n",
    "labels = np.arange(5)\n",
    "label_names = [\"Far Right\", \"Right Centrist\", \"Centrist\", \"Left Centrist\", \"Far Left\"][\n",
    "    ::-1\n",
    "]\n",
    "\n",
    "df_not_na[\"govtrack_class\"] = df_not_na.govtrack_cluster.apply(\n",
    "    lambda x: (dict(map(lambda i, j: (i, j), labels, label_names)))[x]\n",
    ")"
   ]
  },
  {
   "cell_type": "code",
   "execution_count": 27,
   "id": "ca0b98a7-897f-4474-a697-a1a34ef0356b",
   "metadata": {
    "tags": []
   },
   "outputs": [],
   "source": [
    "df_not_na.to_csv(\"tweets_scores.csv\", index=False)"
   ]
  },
  {
   "cell_type": "code",
   "execution_count": null,
   "id": "db94588d-488d-409c-b69a-0d2b651f3384",
   "metadata": {},
   "outputs": [],
   "source": []
  }
 ],
 "metadata": {
  "kernelspec": {
   "display_name": "Python 3 (ipykernel)",
   "language": "python",
   "name": "python3"
  },
  "language_info": {
   "codemirror_mode": {
    "name": "ipython",
    "version": 3
   },
   "file_extension": ".py",
   "mimetype": "text/x-python",
   "name": "python",
   "nbconvert_exporter": "python",
   "pygments_lexer": "ipython3",
   "version": "3.11.1"
  }
 },
 "nbformat": 4,
 "nbformat_minor": 5
}
