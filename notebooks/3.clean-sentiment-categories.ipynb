{
 "cells": [
  {
   "cell_type": "code",
   "execution_count": 10,
   "id": "2c7ca494-4a08-46d8-9bcd-7b9c9685f5c2",
   "metadata": {},
   "outputs": [],
   "source": [
    "import json\n",
    "import re\n",
    "\n",
    "import contractions\n",
    "import pandas as pd"
   ]
  },
  {
   "cell_type": "code",
   "execution_count": 31,
   "id": "47e901ee-f9a9-4ac2-8c5c-92e472688655",
   "metadata": {},
   "outputs": [],
   "source": [
    "# load raw tweets\n",
    "\n",
    "df = pd.read_csv(\"raw_tweets.csv\")"
   ]
  },
  {
   "cell_type": "code",
   "execution_count": 32,
   "id": "225151d7-c2a5-4e62-a89d-f57f4d62df79",
   "metadata": {},
   "outputs": [
    {
     "data": {
      "text/plain": [
       "{'Social Policies': {'All': 'all',\n",
       "  'LGBTQ': ['transphobia',\n",
       "   'sexual identity',\n",
       "   'homophobia',\n",
       "   'trans',\n",
       "   'LGBTQ',\n",
       "   'biphobia',\n",
       "   'lgbtq'],\n",
       "  'internet': ['broadband', 'internet'],\n",
       "  'women health, and rights': ['abortion',\n",
       "   'maternal',\n",
       "   'momnibus',\n",
       "   'reproductive',\n",
       "   'birth',\n",
       "   'breast',\n",
       "   'pregnancy',\n",
       "   'pregnant'],\n",
       "  'substance and mental health': ['mental',\n",
       "   'suicide',\n",
       "   'restoringhope',\n",
       "   'marijuana',\n",
       "   'substance'],\n",
       "  'guns and assault weapons': ['guns',\n",
       "   'arms',\n",
       "   'shooter',\n",
       "   'assault',\n",
       "   'weapons',\n",
       "   'gun'],\n",
       "  'immigration': ['southern',\n",
       "   'immigration',\n",
       "   'migrant',\n",
       "   'border',\n",
       "   'immigrants'],\n",
       "  'energy': ['gallon',\n",
       "   'fossil',\n",
       "   'electric',\n",
       "   'gas',\n",
       "   'fuel',\n",
       "   'oil',\n",
       "   'pump',\n",
       "   'renewable',\n",
       "   'energy',\n",
       "   'petroleum'],\n",
       "  'climate change': ['greenhouse',\n",
       "   'fossil',\n",
       "   'climate',\n",
       "   'gas',\n",
       "   'emissions',\n",
       "   'carbon']},\n",
       " 'Geo Political Policies': {'All': 'all',\n",
       "  'china': ['china', 'ccp', 'communist', 'chinese'],\n",
       "  'chips science act': ['science act', 'chips act', 'chips'],\n",
       "  'taiwan': ['taiwan'],\n",
       "  'ukraine russia': ['vladimir',\n",
       "   'invasion',\n",
       "   'supplemental',\n",
       "   'putin',\n",
       "   'zelensky',\n",
       "   'appropriations',\n",
       "   'russia',\n",
       "   'ukraine',\n",
       "   'ukrainian',\n",
       "   'russian',\n",
       "   'invasion',\n",
       "   'nord stream',\n",
       "   'nordstream']}}"
      ]
     },
     "execution_count": 32,
     "metadata": {},
     "output_type": "execute_result"
    }
   ],
   "source": [
    "# open json file consisting of policies and its sub-groups\n",
    "\n",
    "with open(\"data.json\") as json_file:\n",
    "    categories = json.load(json_file)\n",
    "categories"
   ]
  },
  {
   "cell_type": "markdown",
   "id": "cc6c7754-5809-4bbe-829d-4294cebd9bba",
   "metadata": {},
   "source": [
    "### Clean the Tweets"
   ]
  },
  {
   "cell_type": "code",
   "execution_count": 33,
   "id": "e216d816-1749-4200-ad35-9d52e4bfe588",
   "metadata": {},
   "outputs": [],
   "source": [
    "def contractors(text):\n",
    "    \"\"\"Cleaning the texts, non-alphanumeric letters are removed\n",
    "    including those in shortened words such as can't, won't, etc.\n",
    "    This function expands these words.\n",
    "    \"\"\"\n",
    "\n",
    "    # creating an empty list\n",
    "    expanded_words = []\n",
    "\n",
    "    for word in text.split():\n",
    "        # using contractions.fix to expand the shortened words\n",
    "        expanded_words.append(contractions.fix(word))\n",
    "\n",
    "    expanded_text = \" \".join(expanded_words)\n",
    "    return expanded_text\n",
    "\n",
    "\n",
    "def clean_tweets(tweet: str):\n",
    "    \"\"\"This function cleans the tweets\n",
    "    Attrs\n",
    "    ---------\n",
    "    input: str\n",
    "    tweet\n",
    "    Returns\n",
    "    ---------\n",
    "    output: str\n",
    "    clean tweet\n",
    "    \"\"\"\n",
    "\n",
    "    tweet = contractors(tweet)\n",
    "    tweet = tweet.lower()\n",
    "    tweet = re.sub(\"@[^\\s]+\", \"\", tweet)  # remove twitter handlers\n",
    "    # tweet = re.sub(r'\\B#\\S+','',tweet)  # remove hashtags\n",
    "    tweet = re.sub(r\"http\\S+\", \"\", tweet)  # Remove URLS\n",
    "    tweet = re.sub(\n",
    "        r\"\\s+\", \" \", tweet, flags=re.I\n",
    "    )  # substitute multiple spaces with single space\n",
    "    tweet = \" \".join(re.findall(r\"\\w+\", tweet))  # remove all the special characters\n",
    "    tweet = re.sub(r\"(^| ).(( ).)*( |$)\", \" \", tweet)  # remove all single characters\n",
    "\n",
    "    return tweet"
   ]
  },
  {
   "cell_type": "code",
   "execution_count": 34,
   "id": "d2865045-0fae-44f7-85f6-1d06bc2ec8bf",
   "metadata": {},
   "outputs": [],
   "source": [
    "# clean the tweets\n",
    "\n",
    "df[\"clean_text\"] = df[\"tweet\"].apply(clean_tweets)"
   ]
  },
  {
   "cell_type": "markdown",
   "id": "9246db21-a16d-4ea2-8723-cd71b19c044d",
   "metadata": {},
   "source": [
    "### Identify Tweet Categories"
   ]
  },
  {
   "cell_type": "code",
   "execution_count": 35,
   "id": "8fa4c759-9714-4705-9fdb-d467d835c2e9",
   "metadata": {},
   "outputs": [],
   "source": [
    "def get_policy_cat(text):\n",
    "    \"\"\"This function searches through a tweet text and categorizes it into\n",
    "    their respective categories, e.g., geo-political or social, and further\n",
    "    break down into sub-categories, e.g., climate change, etc.\n",
    "    \"\"\"\n",
    "\n",
    "    social_policy = \"\"\n",
    "    geopolitical_policy = \"\"\n",
    "    policies = \"\"\n",
    "    policy_cat = \"\"\n",
    "\n",
    "    for policy_type in categories:\n",
    "\n",
    "        for policy in categories[policy_type]:\n",
    "            if policy != \"All\":\n",
    "                search = \"|\".join([f\"{p} \" for p in categories[policy_type][policy]])\n",
    "                regexp = re.search(r\"%s\" % search, text, re.I)\n",
    "\n",
    "                if regexp:\n",
    "                    policies += policy + \"|\"\n",
    "\n",
    "                    if policy_type in policy_cat:\n",
    "                        pass\n",
    "                    else:\n",
    "                        policy_cat += policy_type + \" \"\n",
    "                        if policy_type == \"Social Policies\":\n",
    "                            social_policy += policy_type\n",
    "                        if policy_type == \"Geo Political Policies\":\n",
    "                            geopolitical_policy += policy_type\n",
    "            else:\n",
    "                pass\n",
    "\n",
    "    return pd.Series([social_policy, geopolitical_policy, policies.split(\"|\")])"
   ]
  },
  {
   "cell_type": "code",
   "execution_count": 36,
   "id": "f3125ea0-fabe-4a1c-b5e9-7f66d1a80937",
   "metadata": {},
   "outputs": [],
   "source": [
    "# get_policy_cat will create three columns in the dataframe\n",
    "df[[\"social_policy\", \"geopolitical_policy\", \"policies\"]] = df.clean_text.apply(\n",
    "    get_policy_cat\n",
    ")\n",
    "\n",
    "# drop empty policies\n",
    "df = df[df[\"policies\"].map(lambda text: len(text)) > 1]"
   ]
  },
  {
   "cell_type": "code",
   "execution_count": 37,
   "id": "f0dc429c-3eb9-48b5-89e2-b0cd8f4b3778",
   "metadata": {},
   "outputs": [
    {
     "data": {
      "text/html": [
       "<div>\n",
       "<style scoped>\n",
       "    .dataframe tbody tr th:only-of-type {\n",
       "        vertical-align: middle;\n",
       "    }\n",
       "\n",
       "    .dataframe tbody tr th {\n",
       "        vertical-align: top;\n",
       "    }\n",
       "\n",
       "    .dataframe thead th {\n",
       "        text-align: right;\n",
       "    }\n",
       "</style>\n",
       "<table border=\"1\" class=\"dataframe\">\n",
       "  <thead>\n",
       "    <tr style=\"text-align: right;\">\n",
       "      <th></th>\n",
       "      <th>tweet_id</th>\n",
       "      <th>username</th>\n",
       "      <th>party</th>\n",
       "      <th>tweet</th>\n",
       "      <th>clean_text</th>\n",
       "      <th>favorite_count</th>\n",
       "      <th>retweet_count</th>\n",
       "      <th>created_at</th>\n",
       "      <th>source</th>\n",
       "      <th>social_policy</th>\n",
       "      <th>geopolitical_policy</th>\n",
       "      <th>policies</th>\n",
       "    </tr>\n",
       "  </thead>\n",
       "  <tbody>\n",
       "    <tr>\n",
       "      <th>3</th>\n",
       "      <td>1583131771671318528</td>\n",
       "      <td>RepAdams</td>\n",
       "      <td>D</td>\n",
       "      <td>\"Oversight Committee and Black Maternal Health...</td>\n",
       "      <td>oversight committee and black maternal health ...</td>\n",
       "      <td>25</td>\n",
       "      <td>16</td>\n",
       "      <td>2022-10-20 16:23:22+00:00</td>\n",
       "      <td>Twitter Web App</td>\n",
       "      <td>Social Policies</td>\n",
       "      <td></td>\n",
       "      <td>[women health, and rights, ]</td>\n",
       "    </tr>\n",
       "    <tr>\n",
       "      <th>16</th>\n",
       "      <td>1577015599234183168</td>\n",
       "      <td>RepAdams</td>\n",
       "      <td>D</td>\n",
       "      <td>Some companies introduced \"shoot now, pay late...</td>\n",
       "      <td>some companies introduced shoot now pay later ...</td>\n",
       "      <td>14</td>\n",
       "      <td>6</td>\n",
       "      <td>2022-10-03 19:19:53+00:00</td>\n",
       "      <td>Twitter Web App</td>\n",
       "      <td>Social Policies</td>\n",
       "      <td></td>\n",
       "      <td>[guns and assault weapons, ]</td>\n",
       "    </tr>\n",
       "    <tr>\n",
       "      <th>21</th>\n",
       "      <td>1575523426848342016</td>\n",
       "      <td>RepAdams</td>\n",
       "      <td>D</td>\n",
       "      <td>Members of the @HouseGOP are doubling down on ...</td>\n",
       "      <td>members of the are doubling down on the extrem...</td>\n",
       "      <td>11</td>\n",
       "      <td>8</td>\n",
       "      <td>2022-09-29 16:30:31+00:00</td>\n",
       "      <td>TweetDeck</td>\n",
       "      <td>Social Policies</td>\n",
       "      <td></td>\n",
       "      <td>[women health, and rights, ]</td>\n",
       "    </tr>\n",
       "    <tr>\n",
       "      <th>30</th>\n",
       "      <td>1573300633343508480</td>\n",
       "      <td>RepAdams</td>\n",
       "      <td>D</td>\n",
       "      <td>Earlier this year, I spoke with @WRAL about th...</td>\n",
       "      <td>earlier this year spoke with about the black m...</td>\n",
       "      <td>17</td>\n",
       "      <td>6</td>\n",
       "      <td>2022-09-23 13:17:56+00:00</td>\n",
       "      <td>Twitter Web App</td>\n",
       "      <td>Social Policies</td>\n",
       "      <td></td>\n",
       "      <td>[women health, and rights, ]</td>\n",
       "    </tr>\n",
       "    <tr>\n",
       "      <th>35</th>\n",
       "      <td>1571959264276520960</td>\n",
       "      <td>RepAdams</td>\n",
       "      <td>D</td>\n",
       "      <td>Today is National Stillbirth Prevention Day - ...</td>\n",
       "      <td>today is national stillbirth prevention day an...</td>\n",
       "      <td>30</td>\n",
       "      <td>14</td>\n",
       "      <td>2022-09-19 20:27:48+00:00</td>\n",
       "      <td>Twitter Web App</td>\n",
       "      <td>Social Policies</td>\n",
       "      <td></td>\n",
       "      <td>[women health, and rights, ]</td>\n",
       "    </tr>\n",
       "  </tbody>\n",
       "</table>\n",
       "</div>"
      ],
      "text/plain": [
       "               tweet_id  username party  \\\n",
       "3   1583131771671318528  RepAdams     D   \n",
       "16  1577015599234183168  RepAdams     D   \n",
       "21  1575523426848342016  RepAdams     D   \n",
       "30  1573300633343508480  RepAdams     D   \n",
       "35  1571959264276520960  RepAdams     D   \n",
       "\n",
       "                                                tweet  \\\n",
       "3   \"Oversight Committee and Black Maternal Health...   \n",
       "16  Some companies introduced \"shoot now, pay late...   \n",
       "21  Members of the @HouseGOP are doubling down on ...   \n",
       "30  Earlier this year, I spoke with @WRAL about th...   \n",
       "35  Today is National Stillbirth Prevention Day - ...   \n",
       "\n",
       "                                           clean_text  favorite_count  \\\n",
       "3   oversight committee and black maternal health ...              25   \n",
       "16  some companies introduced shoot now pay later ...              14   \n",
       "21  members of the are doubling down on the extrem...              11   \n",
       "30  earlier this year spoke with about the black m...              17   \n",
       "35  today is national stillbirth prevention day an...              30   \n",
       "\n",
       "    retweet_count                 created_at           source  \\\n",
       "3              16  2022-10-20 16:23:22+00:00  Twitter Web App   \n",
       "16              6  2022-10-03 19:19:53+00:00  Twitter Web App   \n",
       "21              8  2022-09-29 16:30:31+00:00        TweetDeck   \n",
       "30              6  2022-09-23 13:17:56+00:00  Twitter Web App   \n",
       "35             14  2022-09-19 20:27:48+00:00  Twitter Web App   \n",
       "\n",
       "      social_policy geopolitical_policy                      policies  \n",
       "3   Social Policies                      [women health, and rights, ]  \n",
       "16  Social Policies                      [guns and assault weapons, ]  \n",
       "21  Social Policies                      [women health, and rights, ]  \n",
       "30  Social Policies                      [women health, and rights, ]  \n",
       "35  Social Policies                      [women health, and rights, ]  "
      ]
     },
     "execution_count": 37,
     "metadata": {},
     "output_type": "execute_result"
    }
   ],
   "source": [
    "df.head(5)"
   ]
  },
  {
   "cell_type": "markdown",
   "id": "b84b2fe5-bb9b-4b44-9124-ff83e5f5cdc8",
   "metadata": {},
   "source": [
    "### Compute Sentiments\n",
    "**Vader**\n",
    "\n",
    "Vader Sentiment Analysis returns probabilities of given sentences as positive, negative, or neutral and according to developers it's attuned to sentiments expressed in social media\n"
   ]
  },
  {
   "cell_type": "code",
   "execution_count": 38,
   "id": "904a36e8-b510-4852-be0a-32d691a47c2f",
   "metadata": {},
   "outputs": [],
   "source": [
    "from nltk.sentiment.vader import SentimentIntensityAnalyzer as SIA"
   ]
  },
  {
   "cell_type": "code",
   "execution_count": 39,
   "id": "7a2b9edc-c624-4d5c-b3cf-6d3843c5550e",
   "metadata": {},
   "outputs": [],
   "source": [
    "sid = SIA()"
   ]
  },
  {
   "cell_type": "code",
   "execution_count": 40,
   "id": "a3a243c1-e2b1-4aee-bc47-d6f88889dee1",
   "metadata": {},
   "outputs": [],
   "source": [
    "def compute_sentiments(df):\n",
    "    \"\"\"Function which computes the sentiments of a dataframe texts.\"\"\"\n",
    "\n",
    "    df[\"sentiments\"] = df[\"clean_text\"].apply(\n",
    "        lambda x: sid.polarity_scores(\" \".join(re.findall(r\"\\w+\", x.lower())))\n",
    "    )\n",
    "\n",
    "    # extract scores of sentiments. 0.00001 added incase of a score of 0\n",
    "    df[\"positive_sentiment\"] = df[\"sentiments\"].apply(\n",
    "        lambda x: x[\"pos\"] + 1 * (10**-6)\n",
    "    )\n",
    "    df[\"neutral_sentiment\"] = df[\"sentiments\"].apply(\n",
    "        lambda x: x[\"neu\"] + 1 * (10**-6)\n",
    "    )\n",
    "    df[\"negative_sentiment\"] = df[\"sentiments\"].apply(\n",
    "        lambda x: x[\"neg\"] + 1 * (10**-6)\n",
    "    )\n",
    "    df[\"compound_sentiment\"] = df[\"sentiments\"].apply(\n",
    "        lambda x: x[\"compound\"] + 1 * (10**-6)\n",
    "    )\n",
    "    df[\"sentiment_text\"] = df[\"compound_sentiment\"].apply(\n",
    "        lambda x: \"positive\" if x > 0.05 else (\"negative\" if x < -0.05 else \"neutral\")\n",
    "    )\n",
    "    df.drop(columns=[\"sentiments\"], inplace=True)\n",
    "\n",
    "    print(\"Finished computing sentiment analysis \\n\")\n",
    "\n",
    "    return df"
   ]
  },
  {
   "cell_type": "code",
   "execution_count": 41,
   "id": "a29246b0-4add-4ee0-b6f4-db051fc37b28",
   "metadata": {},
   "outputs": [
    {
     "name": "stdout",
     "output_type": "stream",
     "text": [
      "Finished computing sentiment analysis \n",
      "\n"
     ]
    }
   ],
   "source": [
    "# calculate sentiment scores\n",
    "df = compute_sentiments(df)\n"
   ]
  },
  {
   "cell_type": "code",
   "execution_count": 44,
   "id": "78af7486-9302-47f6-9eae-efe796c2c62f",
   "metadata": {},
   "outputs": [
    {
     "data": {
      "text/plain": [
       "(118538, 17)"
      ]
     },
     "execution_count": 44,
     "metadata": {},
     "output_type": "execute_result"
    }
   ],
   "source": [
    "df.shape"
   ]
  },
  {
   "cell_type": "code",
   "execution_count": 45,
   "id": "50c7235f-3e38-4c81-8d59-0e5e0ee10b1e",
   "metadata": {},
   "outputs": [],
   "source": [
    "df.to_csv('clean_tweets.csv', index=False)"
   ]
  },
  {
   "cell_type": "code",
   "execution_count": null,
   "id": "94f59742-8e9f-4323-a05f-146362e3eb10",
   "metadata": {},
   "outputs": [],
   "source": []
  }
 ],
 "metadata": {
  "kernelspec": {
   "display_name": "Python 3 (ipykernel)",
   "language": "python",
   "name": "python3"
  },
  "language_info": {
   "codemirror_mode": {
    "name": "ipython",
    "version": 3
   },
   "file_extension": ".py",
   "mimetype": "text/x-python",
   "name": "python",
   "nbconvert_exporter": "python",
   "pygments_lexer": "ipython3",
   "version": "3.10.6"
  }
 },
 "nbformat": 4,
 "nbformat_minor": 5
}
